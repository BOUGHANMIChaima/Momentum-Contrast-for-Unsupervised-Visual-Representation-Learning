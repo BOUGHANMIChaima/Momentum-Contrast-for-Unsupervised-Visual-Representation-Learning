{
  "nbformat": 4,
  "nbformat_minor": 0,
  "metadata": {
    "colab": {
      "name": "Projet_dl.ipynb",
      "provenance": [],
      "collapsed_sections": []
    },
    "kernelspec": {
      "name": "python3",
      "display_name": "Python 3"
    },
    "language_info": {
      "name": "python"
    },
    "accelerator": "GPU"
  },
  "cells": [
    {
      "cell_type": "markdown",
      "source": [
        "## Momentum Contrast for Unsupervised Visual Representation Learning\n",
        "\n",
       
        "Chaima Boughanmi\n"
       
      
      ],
      "metadata": {
        "id": "a7glNufvG8lI"
      }
    },
    {
      "cell_type": "code",
      "source": [
        ""
      ],
      "metadata": {
        "id": "7pbepyTiWMWu"
      },
      "execution_count": null,
      "outputs": []
    },
    {
      "cell_type": "code",
      "source": [
        ""
      ],
      "metadata": {
        "id": "IsupXbGHWksB"
      },
      "execution_count": null,
      "outputs": []
    },
    {
      "cell_type": "code",
      "source": [
        "import tensorflow as tf\n",
        "from tensorflow import keras\n",
        "\n",
        "from tensorflow.keras import datasets, layers, models\n",
        "\n",
        "import torch\n",
        "import torchvision\n",
        "\n",
        "import torch.nn as nn\n",
        "import torch.nn.functional as F\n",
        "import torch.optim as optim"
      ],
      "metadata": {
        "id": "YB_xPtkSiskH"
      },
      "execution_count": 1,
      "outputs": []
    },
    {
      "cell_type": "code",
      "source": [
        ""
      ],
      "metadata": {
        "id": "vzywUjkm7kO-"
      },
      "execution_count": null,
      "outputs": []
    },
    {
      "cell_type": "code",
      "source": [
        "!pip install -q pytorch-metric-learning[with-hooks]"
      ],
      "metadata": {
        "id": "VOJDr2gSTn4_",
        "colab": {
          "base_uri": "https://localhost:8080/",
          "height": 0
        },
        "outputId": "e34155eb-887a-4028-f118-047cf97bfcdd"
      },
      "execution_count": 3,
      "outputs": [
        {
          "output_type": "stream",
          "name": "stdout",
          "text": [
            "\u001b[K     |████████████████████████████████| 106 kB 8.7 MB/s \n",
            "\u001b[K     |████████████████████████████████| 85.5 MB 126 kB/s \n",
            "\u001b[?25h"
          ]
        }
      ]
    },
    {
      "cell_type": "code",
      "source": [
        "from tensorflow.keras.datasets import mnist\n",
        "(X_train, Y_train), (X_test, Y_test) = mnist.load_data()  \n",
        "num_classes = 10\n",
        "Y_train = keras.utils.to_categorical(Y_train, num_classes)\n",
        "Y_test = keras.utils.to_categorical(Y_test, num_classes)\n",
        "import numpy as np"
      ],
      "metadata": {
        "id": "vq-4i8e6oBki",
        "colab": {
          "base_uri": "https://localhost:8080/",
          "height": 0
        },
        "outputId": "4bb4baa1-9714-4970-80ba-60d5ad003687"
      },
      "execution_count": 2,
      "outputs": [
        {
          "output_type": "stream",
          "name": "stdout",
          "text": [
            "Downloading data from https://storage.googleapis.com/tensorflow/tf-keras-datasets/mnist.npz\n",
            "11493376/11490434 [==============================] - 0s 0us/step\n",
            "11501568/11490434 [==============================] - 0s 0us/step\n"
          ]
        }
      ]
    },
    {
      "cell_type": "code",
      "source": [
        "print('MNIST Dataset Shape:')\n",
        "print('X_train: ' + str(X_train.shape))\n",
        "print('Y_train: ' + str(Y_train.shape))\n",
        "print('X_test:  '  + str(X_test.shape))\n",
        "print('Y_test:  '  + str(Y_test.shape))\n",
        "#MNIST Dataset Shape:\n",
        "X_train: (60000, 28, 28)\n",
        "Y_train: (60000,)\n",
        "X_test:  (10000, 28, 28)\n",
        "Y_test:  (10000,)"
      ],
      "metadata": {
        "colab": {
          "base_uri": "https://localhost:8080/",
          "height": 0
        },
        "id": "ZVcG5pkXwPhu",
        "outputId": "32bc1645-98b4-44a6-8b9e-e418630ef933"
      },
      "execution_count": 4,
      "outputs": [
        {
          "output_type": "stream",
          "name": "stdout",
          "text": [
            "MNIST Dataset Shape:\n",
            "X_train: (60000, 28, 28)\n",
            "Y_train: (60000, 10)\n",
            "X_test:  (10000, 28, 28)\n",
            "Y_test:  (10000, 10)\n"
          ]
        }
      ]
    },
    {
      "cell_type": "code",
      "source": [
        "(X_train, y_train), (X_test, y_test) = mnist.load_data()\n",
        "\n",
        "NB_LABELED = 100 \n",
        "INPUT_SHAPE = 128 \n",
        "HEIGHT = 28\n",
        "WIDTH = 28\n",
        "\n"
      ],
      "metadata": {
        "id": "-jvkSM2RxNF4"
      },
      "execution_count": 5,
      "outputs": []
    },
    {
      "cell_type": "code",
      "source": [
        "from matplotlib import pyplot\n",
        "for i in range(9):  \n",
        "  pyplot.subplot(330 + 1 + i)\n",
        "  pyplot.imshow(X_train[i], cmap=pyplot.get_cmap('gray'))\n",
        "pyplot.show()"
      ],
      "metadata": {
        "colab": {
          "base_uri": "https://localhost:8080/",
          "height": 268
        },
        "id": "d_JvY2e_5u3D",
        "outputId": "b9b63fd7-aece-412f-9d75-928c72188847"
      },
      "execution_count": 6,
      "outputs": [
        {
          "output_type": "display_data",
          "data": {
            "image/png": "[encoded data removed]",
            "text/plain": [
              "<Figure size 432x288 with 9 Axes>"
            ]
          },
          "metadata": {
            "needs_background": "light"
          }
        }
      ]
    },
    {
      "cell_type": "code",
      "source": [
        "i = 20111\n",
        "#pyplot.subplot(330 + 1 + 0)\n",
        "pyplot.imshow(X_train[i], cmap=pyplot.get_cmap('gray'))\n",
        "pyplot.show()\n",
        "label = Y_train[i]\n",
        "print(\"The label is \", label)"
      ],
      "metadata": {
        "colab": {
          "base_uri": "https://localhost:8080/",
          "height": 282
        },
        "id": "mvKPMv4H6HvS",
        "outputId": "a0f53180-eb2f-4501-d091-eb5ca8f3fbf5"
      },
      "execution_count": 7,
      "outputs": [
        {
          "output_type": "display_data",
          "data": {
            "image/png": "[encoded data removed]",
            "text/plain": [
              "<Figure size 432x288 with 1 Axes>"
            ]
          },
          "metadata": {
            "needs_background": "light"
          }
        },
        {
          "output_type": "stream",
          "name": "stdout",
          "text": [
            "The label is  [0. 0. 0. 0. 0. 0. 0. 0. 0. 1.]\n"
          ]
        }
      ]
    },
    {
      "cell_type": "code",
      "source": [
        "### Normalisation des images :\n",
        "def normalize_img(img):\n",
        "    img = img.astype('float32')/255.0 \n",
        "    img = (img - 0.5)/0.5\n",
        "    return img\n",
        "\n",
        "def denormalize_img(img):\n",
        "    img = (img*0.5+0.5)*255.0\n",
        "    return img.astype('uint8')\n",
        "\n",
        "def get_data(start_index, end_index , X_train):\n",
        "    NUM_SAMPLES = end_index - start_index\n",
        "    x_batch = X_train[start_index:end_index]\n",
        "    z_noise = np.random.uniform(-1,1,INPUT_SHAPE * NUM_SAMPLES).reshape((NUM_SAMPLES,INPUT_SHAPE))\n",
        "    return x_batch,z_noise\n",
        "\n",
        "# Récupérer les données\n",
        "X_train = np.expand_dims(X_train , axis = -1).astype('uint8')\n",
        "X_test = np.expand_dims(X_test , axis = -1).astype('uint8')\n",
        "\n",
        "X_train = normalize_img(X_train)\n",
        "X_test = normalize_img(X_test)"
      ],
      "metadata": {
        "id": "SWALW1lNMFF6"
      },
      "execution_count": 8,
      "outputs": []
    },
    {
      "cell_type": "code",
      "source": [
        ""
      ],
      "metadata": {
        "id": "5xFQxuvwkWl4"
      },
      "execution_count": null,
      "outputs": []
    },
    {
      "cell_type": "code",
      "source": [
        "input_shape = (28, 28, 1)\n",
        "tf.keras.backend.clear_session()\n",
        "model = keras.Sequential(\n",
        "    [\n",
        "        keras.Input(shape=input_shape),\n",
        "        layers.Conv2D(32, kernel_size=(3, 3), activation=\"relu\"),\n",
        "        layers.MaxPooling2D(pool_size=(2, 2)),\n",
        "        layers.Conv2D(64, kernel_size=(3, 3), activation=\"relu\"),\n",
        "        layers.MaxPooling2D(pool_size=(2, 2)),\n",
        "        layers.Flatten(),\n",
        "        layers.Dropout(0.5),\n",
        "        layers.Dense(num_classes, activation=\"softmax\"),\n",
        "    ]\n",
        ")\n",
        "\n",
        "model.summary()"
      ],
      "metadata": {
        "id": "sp5eTi0mwovB",
        "colab": {
          "base_uri": "https://localhost:8080/",
          "height": 0
        },
        "outputId": "4c4e6ffe-24cf-413b-f9d6-d2eeb75199b3"
      },
      "execution_count": 9,
      "outputs": [
        {
          "output_type": "stream",
          "name": "stdout",
          "text": [
            "Model: \"sequential\"\n",
            "_________________________________________________________________\n",
            " Layer (type)                Output Shape              Param #   \n",
            "=================================================================\n",
            " conv2d (Conv2D)             (None, 26, 26, 32)        320       \n",
            "                                                                 \n",
            " max_pooling2d (MaxPooling2D  (None, 13, 13, 32)       0         \n",
            " )                                                               \n",
            "                                                                 \n",
            " conv2d_1 (Conv2D)           (None, 11, 11, 64)        18496     \n",
            "                                                                 \n",
            " max_pooling2d_1 (MaxPooling  (None, 5, 5, 64)         0         \n",
            " 2D)                                                             \n",
            "                                                                 \n",
            " flatten (Flatten)           (None, 1600)              0         \n",
            "                                                                 \n",
            " dropout (Dropout)           (None, 1600)              0         \n",
            "                                                                 \n",
            " dense (Dense)               (None, 10)                16010     \n",
            "                                                                 \n",
            "=================================================================\n",
            "Total params: 34,826\n",
            "Trainable params: 34,826\n",
            "Non-trainable params: 0\n",
            "_________________________________________________________________\n"
          ]
        }
      ]
    },
    {
      "cell_type": "code",
      "source": [
        "model.compile(optimizer='adam',\n",
        "              loss=tf.keras.losses.CategoricalCrossentropy(from_logits=True),\n",
        "              metrics=['accuracy'])\n",
        "\n",
        "history = model.fit(X_train[:100], Y_train[:100], epochs=20, validation_split=0.2, verbose = 0)"
      ],
      "metadata": {
        "id": "YLr5TH7cwpY_",
        "colab": {
          "base_uri": "https://localhost:8080/",
          "height": 0
        },
        "outputId": "fff823c5-ef0d-464c-928d-fec2a077b282"
      },
      "execution_count": 18,
      "outputs": [
        {
          "output_type": "stream",
          "name": "stderr",
          "text": [
            "/usr/local/lib/python3.7/dist-packages/tensorflow/python/util/dispatch.py:1082: UserWarning: \"`categorical_crossentropy` received `from_logits=True`, but the `output` argument was produced by a sigmoid or softmax activation and thus does not represent logits. Was this intended?\"\n",
            "  return dispatch_target(*args, **kwargs)\n"
          ]
        }
      ]
    },
    {
      "cell_type": "code",
      "source": [
        "\n",
        "\n"
      ],
      "metadata": {
        "id": "n7YSNETzOfaW"
      },
      "execution_count": null,
      "outputs": []
    },
    {
      "cell_type": "code",
      "source": [
        "\n",
        "import matplotlib.pylab as plt\n",
        "\n",
        "lists = history.history.items()\n",
        "x_keys,y_vals = zip(*lists)\n",
        "x_epochs = np.arange(1,21)\n",
        "fig, (ax1, ax2) = plt.subplots(1,2)\n",
        "\n",
        "fig.suptitle('Baseline for 100 examples')\n",
        "ax1.plot(x_epochs, y_vals[0])\n",
        "ax1.set_title(x_keys[0])\n",
        "ax2.plot(x_epochs, y_vals[1], \"tab:red\")\n",
        "ax2.set_title(x_keys[1])"
      ],
      "metadata": {
        "colab": {
          "base_uri": "https://localhost:8080/",
          "height": 311
        },
        "id": "yxn-lL5IRR1y",
        "outputId": "c9f9cd25-b6f9-4424-b4b3-ad19258055ff"
      },
      "execution_count": 20,
      "outputs": [
        {
          "output_type": "execute_result",
          "data": {
            "text/plain": [
              "Text(0.5, 1.0, 'accuracy')"
            ]
          },
          "metadata": {},
          "execution_count": 20
        },
        {
          "output_type": "display_data",
          "data": {
            "image/png": "[encoded data removed]",
            "text/plain": [
              "<Figure size 432x288 with 2 Axes>"
            ]
          },
          "metadata": {
            "needs_background": "light"
          }
        }
      ]
    },
    {
      "cell_type": "code",
      "source": [
        "#prediction sur x test\n",
        "score = model.evaluate(X_test, Y_test, verbose=0)\n",
        "print(\"Test loss:\", score[0])\n",
        "print(\"Test accuracy:\", score[1])"
      ],
      "metadata": {
        "colab": {
          "base_uri": "https://localhost:8080/",
          "height": 0
        },
        "id": "kpkjh5jngE7t",
        "outputId": "973b65b0-b407-47e5-9497-f23757d9495a"
      },
      "execution_count": 21,
      "outputs": [
        {
          "output_type": "stream",
          "name": "stdout",
          "text": [
            "Test loss: 1.2826364040374756\n",
            "Test accuracy: 0.7329000234603882\n"
          ]
        }
      ]
    },
    {
      "cell_type": "code",
      "source": [
        "def get_history():\n",
        "    input_shape = (28, 28, 1)\n",
        "    loss_list = []\n",
        "    acc_list = []\n",
        "    \n",
        "    for i in range(1,31):\n",
        "        tf.keras.backend.clear_session()\n",
        "        model = keras.Sequential(\n",
        "        [\n",
        "        keras.Input(shape=input_shape),\n",
        "        layers.Conv2D(32, kernel_size=(3, 3), activation=\"relu\"),\n",
        "        layers.MaxPooling2D(pool_size=(2, 2)),\n",
        "        layers.Conv2D(64, kernel_size=(3, 3), activation=\"relu\"),\n",
        "        layers.MaxPooling2D(pool_size=(2, 2)),\n",
        "        layers.Flatten(),\n",
        "        layers.Dropout(0.5),\n",
        "        layers.Dense(num_classes, activation=\"softmax\"),\n",
        "        ]\n",
        "        )\n",
        "        model.compile(optimizer='adam',\n",
        "              loss=tf.keras.losses.CategoricalCrossentropy(from_logits=True),\n",
        "              metrics=['accuracy'])\n",
        "        history = model.fit(X_train[:100], Y_train[:100], epochs=i, validation_split=0.2, verbose = 0)\n",
        "        score = model.evaluate(X_test, Y_test, verbose=0)\n",
        "        loss_list.append(score[0])\n",
        "        acc_list.append(score[1])\n",
        "    return loss_list, acc_list\n",
        "\n",
        "\n",
        "\n",
        "\n",
        "\n"
      ],
      "metadata": {
        "id": "gTUSmh5hlK_8"
      },
      "execution_count": 29,
      "outputs": []
    },
    {
      "cell_type": "code",
      "source": [
        "loss_list, acc_list = get_history()"
      ],
      "metadata": {
        "colab": {
          "base_uri": "https://localhost:8080/",
          "height": 0
        },
        "id": "wCOZD2a5qNVS",
        "outputId": "a7707769-468b-4182-b79a-78da3b159038"
      },
      "execution_count": 30,
      "outputs": [
        {
          "output_type": "stream",
          "name": "stderr",
          "text": [
            "/usr/local/lib/python3.7/dist-packages/tensorflow/python/util/dispatch.py:1082: UserWarning: \"`categorical_crossentropy` received `from_logits=True`, but the `output` argument was produced by a sigmoid or softmax activation and thus does not represent logits. Was this intended?\"\n",
            "  return dispatch_target(*args, **kwargs)\n"
          ]
        }
      ]
    },
    {
      "cell_type": "code",
      "source": [
        "len(Y_test)"
      ],
      "metadata": {
        "colab": {
          "base_uri": "https://localhost:8080/",
          "height": 0
        },
        "id": "ZGRQFg_StOfT",
        "outputId": "9e2cfba4-38e9-4c7a-a6de-5df6b87696be"
      },
      "execution_count": 42,
      "outputs": [
        {
          "output_type": "execute_result",
          "data": {
            "text/plain": [
              "10000"
            ]
          },
          "metadata": {},
          "execution_count": 42
        }
      ]
    },
    {
      "cell_type": "code",
      "source": [
        "fig, (ax1, ax2) = plt.subplots(1,2)\n",
        "fig.suptitle('Prediction Results on 10000 test examples')\n",
        "ax1.plot(loss_list)\n",
        "ax1.set_title(x_keys[0])\n",
        "ax1.set_xlabel(\"epochs\")\n",
        "ax2.plot(acc_list, \"tab:red\")\n",
        "ax2.set_title(x_keys[1])\n",
        "ax2.set_xlabel(\"epochs\")"
      ],
      "metadata": {
        "colab": {
          "base_uri": "https://localhost:8080/",
          "height": 326
        },
        "id": "Py5BnSb-rKcO",
        "outputId": "8742bfb5-0e73-4547-f34d-db611f2914fc"
      },
      "execution_count": 43,
      "outputs": [
        {
          "output_type": "execute_result",
          "data": {
            "text/plain": [
              "Text(0.5, 0, 'epochs')"
            ]
          },
          "metadata": {},
          "execution_count": 43
        },
        {
          "output_type": "display_data",
          "data": {
            "image/png": "[encoded data removed]",
            "text/plain": [
              "<Figure size 432x288 with 2 Axes>"
            ]
          },
          "metadata": {
            "needs_background": "light"
          }
        }
      ]
    },
    {
      "cell_type": "markdown",
      "source": [
        "## MoCo for predicting the MNIST dataset\n",
        "\n",
        "The implementation follows the code by  Kevin Musgrave\n",
        "\n",
        "https://github.com/KevinMusgrave/pytorch-metric-learning/\n",
        "\n",
        "Who uses and modifies parts of the official MoCo repository to make predictions on the CIFAR10 dataset.\n",
        "\n",
        "https://github.com/facebookresearch/moco-v3?ref=pythonrepo.com\n",
        "\n"
      ],
      "metadata": {
        "id": "ycOCphIwWSu2"
      }
    },
    {
      "cell_type": "markdown",
      "source": [
        "### Creating the dataset and image transforms"
      ],
      "metadata": {
        "id": "aONpsMs1v1LG"
      }
    },
    {
      "cell_type": "code",
      "source": [
        "import logging\n",
        "import os\n",
        "import random\n",
        "from functools import partial\n",
        "\n",
        "import record_keeper\n",
        "import torch\n",
        "from PIL import ImageFilter\n",
        "\n",
        "##############################################################################\n",
        "### Many parts of this are a modified version of the Kevin Musgrave code #####\n",
        "######### https://github.com/KevinMusgrave/pytorch-metric-learning/ ##########\n",
        "##############################################################################\n",
        "from torchvision import datasets, transforms\n",
        "from torchvision.models import resnet\n",
        "from tqdm import tqdm\n",
        "\n",
        "from pytorch_metric_learning import losses\n",
        "from pytorch_metric_learning.utils import logging_presets\n",
        "\n",
        "logging.getLogger().setLevel(logging.INFO)\n",
        "\n",
        "device = torch.device(\"cuda\")\n",
        "\n",
        "\n",
        "class TwoCropsTransform:\n",
        "    \"\"\"Take two random crops of one image as the query and key.\"\"\"\n",
        "\n",
        "    def __init__(self, base_transform):\n",
        "        self.base_transform = base_transform\n",
        "\n",
        "    def __call__(self, x):\n",
        "        q = self.base_transform(x)\n",
        "        k = self.base_transform(x)\n",
        "        return [q, k]\n",
        "\n",
        "\n",
        "\n",
        "class GaussianBlur(object):\n",
        "    \"\"\"Gaussian blur augmentation in SimCLR https://arxiv.org/abs/2002.05709\"\"\"\n",
        "\n",
        "    def __init__(self, sigma=[0.1, 2.0]):\n",
        "        self.sigma = sigma\n",
        "\n",
        "    def __call__(self, x):\n",
        "        sigma = random.uniform(self.sigma[0], self.sigma[1])\n",
        "        x = x.filter(ImageFilter.GaussianBlur(radius=sigma))\n",
        "        return x\n",
        "\n",
        "\n",
        "\n",
        "def create_dataset(batch_size):\n",
        "   # normalize = transforms.Normalize([0.4914, 0.4822, 0.4465], [0.2023, 0.1994, 0.2010])\n",
        "    normalize = transforms.Normalize([0.4914], [0.2023])\n",
        "\n",
        "    train_transform = transforms.Compose(\n",
        "        [\n",
        "            transforms.RandomResizedCrop(28),\n",
        "            transforms.RandomHorizontalFlip(p=0.5),\n",
        "            transforms.RandomGrayscale(p=0.2),\n",
        "            transforms.ToTensor(),\n",
        "            normalize,\n",
        "        ]\n",
        "    )\n",
        "\n",
        "    train_transform = TwoCropsTransform(train_transform)\n",
        "\n",
        "    val_transform = transforms.Compose([transforms.ToTensor(), normalize])\n",
        "\n",
        "    train_dataset = datasets.MNIST(\n",
        "        \"dataset\", train=True, download=True, transform=train_transform\n",
        "    )\n",
        "    train_dataset_for_eval = datasets.MNIST(\n",
        "        \"dataset\", train=True, download=True, transform=val_transform\n",
        "    )\n",
        "    val_dataset = datasets.MNIST(\n",
        "        \"dataset\", train=False, download=True, transform=val_transform\n",
        "    )\n",
        "\n",
        "    train_loader = torch.utils.data.DataLoader(\n",
        "        train_dataset,\n",
        "        batch_size=batch_size,\n",
        "        shuffle=True,\n",
        "        num_workers=2,\n",
        "        pin_memory=True,\n",
        "        drop_last=True,\n",
        "    )\n",
        "\n",
        "    train_loader_for_eval = torch.utils.data.DataLoader(\n",
        "        train_dataset_for_eval,\n",
        "        batch_size=batch_size,\n",
        "        shuffle=False,\n",
        "        num_workers=2,\n",
        "        pin_memory=True,\n",
        "        drop_last=False,\n",
        "    )\n",
        "\n",
        "    val_loader = torch.utils.data.DataLoader(\n",
        "        val_dataset,\n",
        "        batch_size=batch_size,\n",
        "        shuffle=False,\n",
        "        num_workers=2,\n",
        "        pin_memory=True,\n",
        "        drop_last=False,\n",
        "    )\n",
        "\n",
        "    return (\n",
        "        train_dataset,\n",
        "        train_dataset_for_eval,\n",
        "        val_dataset,\n",
        "        train_loader,\n",
        "        train_loader_for_eval,\n",
        "        val_loader,\n",
        "    )"
      ],
      "metadata": {
        "id": "DqjhWPbvpnNC"
      },
      "execution_count": 44,
      "outputs": []
    },
    {
      "cell_type": "markdown",
      "source": [
        "## Model definition and code for copying params from encQ to encK"
      ],
      "metadata": {
        "id": "WK89q48rv802"
      }
    },
    {
      "cell_type": "code",
      "source": [
        "\n",
        "# SplitBatchNorm: simulate multi-gpu behavior of BatchNorm in one gpu by splitting alone the batch dimension\n",
        "# implementation adapted from https://github.com/davidcpage/MNIST-fast/blob/master/torch_backend.py\n",
        "class SplitBatchNorm(torch.nn.BatchNorm2d):\n",
        "    def __init__(self, num_features, num_splits, **kw):\n",
        "        super().__init__(num_features, **kw)\n",
        "        self.num_splits = num_splits\n",
        "\n",
        "    def forward(self, input):\n",
        "        N, C, H, W = input.shape\n",
        "        if self.training or not self.track_running_stats:\n",
        "            running_mean_split = self.running_mean.repeat(self.num_splits)\n",
        "            running_var_split = self.running_var.repeat(self.num_splits)\n",
        "            outcome = torch.nn.functional.batch_norm(\n",
        "                input.view(-1, C * self.num_splits, H, W),\n",
        "                running_mean_split,\n",
        "                running_var_split,\n",
        "                self.weight.repeat(self.num_splits),\n",
        "                self.bias.repeat(self.num_splits),\n",
        "                True,\n",
        "                self.momentum,\n",
        "                self.eps,\n",
        "            ).view(N, C, H, W)\n",
        "            self.running_mean.data.copy_(\n",
        "                running_mean_split.view(self.num_splits, C).mean(dim=0)\n",
        "            )\n",
        "            self.running_var.data.copy_(\n",
        "                running_var_split.view(self.num_splits, C).mean(dim=0)\n",
        "            )\n",
        "            return outcome\n",
        "        else:\n",
        "            return torch.nn.functional.batch_norm(\n",
        "                input,\n",
        "                self.running_mean,\n",
        "                self.running_var,\n",
        "                self.weight,\n",
        "                self.bias,\n",
        "                False,\n",
        "                self.momentum,\n",
        "                self.eps,\n",
        "            )\n",
        "\n",
        "\n",
        "\n",
        "class ModelBase(torch.nn.Module):\n",
        "    \"\"\"\n",
        "    Common MNIST ResNet recipe.\n",
        "    \n",
        "    \"\"\"\n",
        "\n",
        "    def __init__(self, feature_dim=128, arch=\"resnet18\", bn_splits=8):\n",
        "        super(ModelBase, self).__init__()\n",
        "\n",
        "        # use split batchnorm\n",
        "        norm_layer = (\n",
        "            partial(SplitBatchNorm, num_splits=bn_splits)\n",
        "            if bn_splits > 1\n",
        "            else torch.nn.BatchNorm2d\n",
        "        )\n",
        "        resnet_arch = getattr(resnet, arch)\n",
        "        net = resnet_arch(num_classes=feature_dim, norm_layer=norm_layer)\n",
        "\n",
        "        self.net = []\n",
        "        for name, module in net.named_children():\n",
        "            if name == \"conv1\":\n",
        "                module = torch.nn.Conv2d(1, 64, \n",
        "            kernel_size=(7, 7), \n",
        "            stride=(2, 2), \n",
        "            padding=(3, 3), bias=False\n",
        "                )\n",
        "            if isinstance(module, torch.nn.MaxPool2d):\n",
        "                continue\n",
        "            if isinstance(module, torch.nn.Linear):\n",
        "                self.net.append(torch.nn.Flatten(1))\n",
        "            self.net.append(module)\n",
        "\n",
        "        self.net = torch.nn.Sequential(*self.net)\n",
        "\n",
        "    def forward(self, x):\n",
        "        x = self.net(x)\n",
        "        # note: not normalized here\n",
        "        return x\n",
        "\n",
        "\n",
        "def copy_params(encQ, encK, m=None):\n",
        "    if m is None:\n",
        "        for param_q, param_k in zip(encQ.parameters(), encK.parameters()):\n",
        "            param_k.data.copy_(param_q.data)  # initialize\n",
        "            param_k.requires_grad = False  # not update by gradient\n",
        "    else:\n",
        "        for param_q, param_k in zip(encQ.parameters(), encK.parameters()):\n",
        "            param_k.data = param_k.data * m + param_q.data * (1.0 - m)\n",
        "\n",
        "\n",
        "def create_encoder():\n",
        "    emb_dim = 128\n",
        "    model = ModelBase()\n",
        "    model = torch.nn.DataParallel(model)\n",
        "    model.to(device)\n",
        "    return model"
      ],
      "metadata": {
        "id": "vphHsDfDjgMQ"
      },
      "execution_count": 46,
      "outputs": []
    },
    {
      "cell_type": "markdown",
      "source": [
        "## Evaluation functions"
      ],
      "metadata": {
        "id": "Em6SzjrRwCB3"
      }
    },
    {
      "cell_type": "code",
      "source": [
        "######################\n",
        "### from MoCo repo ###\n",
        "######################\n",
        "# test using a knn monitor\n",
        "def test(net, memory_data_loader, test_data_loader, epoch, knn_k, knn_t, record_keeper):\n",
        "    net.eval()\n",
        "    classes = len(memory_data_loader.dataset.classes)\n",
        "    total_top1, total_top5, total_num, feature_bank = 0.0, 0.0, 0, []\n",
        "\n",
        "    #accuracy_history = []\n",
        "    with torch.no_grad():\n",
        "        # generate feature bank\n",
        "        for data, target in tqdm(memory_data_loader, desc=\"Feature extracting\"):\n",
        "            feature = net(data.cuda(non_blocking=True))\n",
        "            feature = torch.nn.functional.normalize(feature, dim=1)\n",
        "            feature_bank.append(feature)\n",
        "        # [D, N]\n",
        "        feature_bank = torch.cat(feature_bank, dim=0).t().contiguous()\n",
        "        # [N]\n",
        "        feature_labels = torch.tensor(\n",
        "            memory_data_loader.dataset.targets, device=feature_bank.device\n",
        "        )\n",
        "        # loop test data to predict the label by weighted knn search\n",
        "        test_bar = tqdm(test_data_loader)\n",
        "        for data, target in test_bar:\n",
        "            data, target = data.cuda(non_blocking=True), target.cuda(non_blocking=True)\n",
        "            feature = net(data)\n",
        "            feature = torch.nn.functional.normalize(feature, dim=1)\n",
        "\n",
        "            pred_labels = knn_predict(\n",
        "                feature, feature_bank, feature_labels, classes, knn_k, knn_t\n",
        "            )\n",
        "\n",
        "            total_num += data.size(0)\n",
        "            total_top1 += (pred_labels[:, 0] == target).float().sum().item()\n",
        "            acc = total_top1 / total_num * 100\n",
        "            #accuracy_history.append(acc)\n",
        "            test_bar.set_description(\"Test Epoch {}: Acc@1:{:.2f}%\".format(epoch, acc))\n",
        "\n",
        "    record_keeper.update_records(\n",
        "        {\"knn_monitor_accuracy\": acc},\n",
        "        epoch,\n",
        "        parent_name=\"accuracy\",\n",
        "    )\n",
        "    record_keeper.save_records()\n",
        "    \n",
        "    return acc\n",
        "\n",
        "\n",
        "######################\n",
        "### from MoCo repo ###\n",
        "######################\n",
        "# knn monitor as in InstDisc https://arxiv.org/abs/1805.01978\n",
        "# implementation follows http://github.com/zhirongw/lemniscate.pytorch and https://github.com/leftthomas/SimCLR\n",
        "def knn_predict(feature, feature_bank, feature_labels, classes, knn_k, knn_t):\n",
        "    # compute cos similarity between each feature vector and feature bank ---> [B, N]\n",
        "    sim_matrix = torch.mm(feature, feature_bank)\n",
        "    # [B, K]\n",
        "    sim_weight, sim_indices = sim_matrix.topk(k=knn_k, dim=-1)\n",
        "    # [B, K]\n",
        "    sim_labels = torch.gather(\n",
        "        feature_labels.expand(feature.size(0), -1), dim=-1, index=sim_indices\n",
        "    )\n",
        "    sim_weight = (sim_weight / knn_t).exp()\n",
        "\n",
        "    # counts for each class\n",
        "    one_hot_label = torch.zeros(\n",
        "        feature.size(0) * knn_k, classes, device=sim_labels.device\n",
        "    )\n",
        "    # [B*K, C]\n",
        "    one_hot_label = one_hot_label.scatter(\n",
        "        dim=-1, index=sim_labels.view(-1, 1), value=1.0\n",
        "    )\n",
        "    # weighted score ---> [B, C]\n",
        "    pred_scores = torch.sum(\n",
        "        one_hot_label.view(feature.size(0), -1, classes) * sim_weight.unsqueeze(dim=-1),\n",
        "        dim=1,\n",
        "    )\n",
        "\n",
        "    pred_labels = pred_scores.argsort(dim=-1, descending=True)\n",
        "    return pred_labels"
      ],
      "metadata": {
        "id": "OmjMFyG9ji3Y"
      },
      "execution_count": 47,
      "outputs": []
    },
    {
      "cell_type": "markdown",
      "source": [
        "## Training"
      ],
      "metadata": {
        "id": "pQMJRxHjwEQ-"
      }
    },
    {
      "cell_type": "code",
      "source": [
        "def update_records(loss, loss_fn, optimizer, record_keeper, global_iteration):\n",
        "    def optimizer_custom_attr_func(opt):\n",
        "        return {\"lr\": opt.param_groups[0][\"lr\"]}\n",
        "\n",
        "    record_these = [\n",
        "        [{\"loss\": loss.item()}, {\"parent_name\": \"loss_histories\"}],\n",
        "        [{\"loss_function\": loss_fn}, {\"recursive_types\": [torch.nn.Module]}],\n",
        "        [{\"optimizer\": optimizer}, {\"custom_attr_func\": optimizer_custom_attr_func}],\n",
        "    ]\n",
        "    for record, kwargs in record_these:\n",
        "        record_keeper.update_records(record, global_iteration, **kwargs)\n",
        "\n",
        "\n",
        "def save_model(encQ):\n",
        "    model_folder = \"example_saved_models\"\n",
        "    if not os.path.exists(model_folder):\n",
        "        os.makedirs(model_folder)\n",
        "    torch.save(encQ.state_dict(), \"{}/encQ_best.pth\".format(model_folder))\n",
        "\n",
        "\n",
        "def batch_shuffle_single_gpu(x):\n",
        "    \"\"\"\n",
        "    Batch shuffle, for making use of BatchNorm.\n",
        "    \"\"\"\n",
        "    # random shuffle index\n",
        "    idx_shuffle = torch.randperm(x.shape[0]).cuda()\n",
        "\n",
        "    # index for restoring\n",
        "    idx_unshuffle = torch.argsort(idx_shuffle)\n",
        "\n",
        "    return x[idx_shuffle], idx_unshuffle\n",
        "\n",
        "\n",
        "\n",
        "def batch_unshuffle_single_gpu(x, idx_unshuffle):\n",
        "    \"\"\"\n",
        "    Undo batch shuffle.\n",
        "    \"\"\"\n",
        "    return x[idx_unshuffle]\n",
        "\n",
        "\n",
        "def create_labels(num_pos_pairs, previous_max_label):\n",
        "    # create labels that indicate what the positive pairs are\n",
        "    labels = torch.arange(0, num_pos_pairs)\n",
        "    labels = torch.cat((labels, labels)).to(device)\n",
        "    # add an offset so that the labels do not overlap with any labels in the memory queue\n",
        "    labels += previous_max_label + 1\n",
        "    # we want to enqueue the output of encK, which is the 2nd half of the batch\n",
        "    enqueue_idx = torch.arange(num_pos_pairs, num_pos_pairs * 2)\n",
        "    return labels, enqueue_idx\n",
        "\n",
        "\n",
        "def train(\n",
        "    encQ,\n",
        "    encK,\n",
        "    paramK_momentum,\n",
        "    loss_fn,\n",
        "    optimizer,\n",
        "    train_loader,\n",
        "    record_keeper,\n",
        "    global_iteration,\n",
        "):\n",
        "    encQ.train()\n",
        "    pbar = tqdm(train_loader)\n",
        "    for images, _ in pbar:\n",
        "        previous_max_label = torch.max(loss_fn.label_memory)\n",
        "        imgQ = images[0].to(device)\n",
        "        imgK = images[1].to(device)\n",
        "\n",
        "        # compute output\n",
        "        encQ_out = encQ(imgQ)\n",
        "        with torch.no_grad():  # no gradient to keys\n",
        "            copy_params(encQ, encK, m=paramK_momentum)\n",
        "            imgK, idx_unshuffle = batch_shuffle_single_gpu(imgK)\n",
        "            encK_out = encK(imgK)\n",
        "            encK_out = batch_unshuffle_single_gpu(encK_out, idx_unshuffle)\n",
        "\n",
        "        all_enc = torch.cat([encQ_out, encK_out], dim=0)\n",
        "        labels, enqueue_idx = create_labels(encQ_out.size(0), previous_max_label)\n",
        "        loss = loss_fn(all_enc, labels, enqueue_idx=enqueue_idx)\n",
        "\n",
        "        # compute gradient and do SGD step\n",
        "        optimizer.zero_grad()\n",
        "        loss.backward()\n",
        "        optimizer.step()\n",
        "\n",
        "        pbar.set_description(\"loss=%.5f\" % loss.item())\n",
        "        update_records(\n",
        "            loss, loss_fn, optimizer, record_keeper, global_iteration[\"iter\"]\n",
        "        )\n",
        "        global_iteration[\"iter\"] += 1"
      ],
      "metadata": {
        "id": "rWtrkmLljk7M"
      },
      "execution_count": null,
      "outputs": []
    },
    {
      "cell_type": "code",
      "source": [
        "#!rm -rfv example_logs example_tensorboard example_saved_models\n",
        "#%load_ext tensorboard\n",
        "#%tensorboard --logdir example_tensorboard"
      ],
      "metadata": {
        "id": "acNcMOvOjnOg"
      },
      "execution_count": null,
      "outputs": []
    },
    {
      "cell_type": "code",
      "source": [
        "batch_size = 256\n",
        "lr = 0.03\n",
        "paramK_momentum = 0.99\n",
        "memory_size = 4096\n",
        "num_epochs = 30\n",
        "knn_k = 200\n",
        "knn_t = 0.1\n",
        "acc_history = []\n",
        "(\n",
        "    train_dataset,\n",
        "    train_dataset_for_eval,\n",
        "    val_dataset,\n",
        "    train_loader,\n",
        "    train_loader_for_eval,\n",
        "    val_loader,\n",
        ") = create_dataset(batch_size)\n",
        "\n",
        "encQ = create_encoder()\n",
        "encK = create_encoder()\n",
        "\n",
        "# copy params from encQ into encK\n",
        "copy_params(encQ, encK)\n",
        "\n",
        "optimizer = torch.optim.SGD(encQ.parameters(), lr, momentum=0.9, weight_decay=5e-4)\n",
        "scheduler = torch.optim.lr_scheduler.CosineAnnealingLR(optimizer, num_epochs)\n",
        "\n",
        "###########################################################\n",
        "### Set the loss function and the (optional) miner here ###\n",
        "###########################################################\n",
        "loss_fn = losses.CrossBatchMemory(\n",
        "    loss=losses.NTXentLoss(temperature=0.1), embedding_size=128, memory_size=memory_size\n",
        ")\n",
        "\n",
        "dataset_dict = {\"train\": train_dataset_for_eval, \"val\": val_dataset}\n",
        "record_keeper, _, _ = logging_presets.get_record_keeper(\n",
        "    \"example_logs\", \"example_tensorboard\"\n",
        ")\n",
        "hooks = logging_presets.get_hook_container(record_keeper)\n",
        "\n",
        "# first check untrained performance\n",
        "epoch = 0\n",
        "best_accuracy= test(\n",
        "    encQ, train_loader_for_eval, val_loader, epoch, knn_k, knn_t, record_keeper\n",
        ")\n",
        "\n",
        "global_iteration = {\"iter\": 0}\n",
        "for epoch in range(1, num_epochs + 1):\n",
        "    logging.info(\"Starting epoch {}\".format(epoch))\n",
        "    train(\n",
        "        encQ,\n",
        "        encK,\n",
        "        paramK_momentum,\n",
        "        loss_fn,\n",
        "        optimizer,\n",
        "        train_loader,\n",
        "        record_keeper,\n",
        "        global_iteration,\n",
        "    )\n",
        "    curr_accuracy= test(\n",
        "        encQ, train_loader_for_eval, val_loader, epoch, knn_k, knn_t, record_keeper\n",
        "    )\n",
        "    acc_history.append(curr_accuracy)\n",
        "    if curr_accuracy > best_accuracy:\n",
        "        best_accuracy = curr_accuracy\n",
        "        save_model(encQ)\n",
        "    scheduler.step()\n"
      ],
      "metadata": {
        "colab": {
          "base_uri": "https://localhost:8080/"
        },
        "id": "7yMnmdODjqCU",
        "outputId": "5cd37040-4070-4632-b166-e5aeb916329f"
      },
      "execution_count": null,
      "outputs": [
        {
          "output_type": "stream",
          "name": "stderr",
          "text": [
            "Feature extracting: 100%|██████████| 235/235 [00:14<00:00, 16.25it/s]\n",
            "/usr/local/lib/python3.7/dist-packages/ipykernel_launcher.py:21: UserWarning: To copy construct from a tensor, it is recommended to use sourceTensor.clone().detach() or sourceTensor.clone().detach().requires_grad_(True), rather than torch.tensor(sourceTensor).\n",
            "Test Epoch 0: Acc@1:86.07%: 100%|██████████| 40/40 [00:03<00:00, 10.72it/s]\n",
            "INFO:root:Starting epoch 1\n",
            "loss=6.90372: 100%|██████████| 234/234 [01:56<00:00,  2.01it/s]\n",
            "Feature extracting: 100%|██████████| 235/235 [00:14<00:00, 16.46it/s]\n",
            "Test Epoch 1: Acc@1:63.46%: 100%|██████████| 40/40 [00:03<00:00, 10.70it/s]\n",
            "INFO:root:Starting epoch 2\n",
            "loss=6.56706: 100%|██████████| 234/234 [01:58<00:00,  1.98it/s]\n",
            "Feature extracting: 100%|██████████| 235/235 [00:14<00:00, 16.54it/s]\n",
            "Test Epoch 2: Acc@1:63.93%: 100%|██████████| 40/40 [00:03<00:00, 10.84it/s]\n",
            "INFO:root:Starting epoch 3\n",
            "loss=6.29400: 100%|██████████| 234/234 [01:57<00:00,  1.98it/s]\n",
            "Feature extracting: 100%|██████████| 235/235 [00:14<00:00, 16.47it/s]\n",
            "Test Epoch 3: Acc@1:70.86%: 100%|██████████| 40/40 [00:03<00:00, 10.85it/s]\n",
            "INFO:root:Starting epoch 4\n",
            "loss=6.02334: 100%|██████████| 234/234 [01:57<00:00,  1.98it/s]\n",
            "Feature extracting: 100%|██████████| 235/235 [00:14<00:00, 16.59it/s]\n",
            "Test Epoch 4: Acc@1:73.32%: 100%|██████████| 40/40 [00:03<00:00, 11.00it/s]\n",
            "INFO:root:Starting epoch 5\n",
            "loss=5.87683: 100%|██████████| 234/234 [01:57<00:00,  1.99it/s]\n",
            "Feature extracting: 100%|██████████| 235/235 [00:14<00:00, 16.60it/s]\n",
            "Test Epoch 5: Acc@1:77.59%: 100%|██████████| 40/40 [00:03<00:00, 11.07it/s]\n",
            "INFO:root:Starting epoch 6\n",
            "loss=5.57385: 100%|██████████| 234/234 [01:57<00:00,  1.99it/s]\n",
            "Feature extracting: 100%|██████████| 235/235 [00:14<00:00, 16.45it/s]\n",
            "Test Epoch 6: Acc@1:81.11%: 100%|██████████| 40/40 [00:03<00:00, 10.93it/s]\n",
            "INFO:root:Starting epoch 7\n",
            "loss=5.21216: 100%|██████████| 234/234 [01:57<00:00,  1.99it/s]\n",
            "Feature extracting: 100%|██████████| 235/235 [00:14<00:00, 16.58it/s]\n",
            "Test Epoch 7: Acc@1:84.22%: 100%|██████████| 40/40 [00:03<00:00, 11.04it/s]\n",
            "INFO:root:Starting epoch 8\n",
            "loss=5.30689: 100%|██████████| 234/234 [01:57<00:00,  2.00it/s]\n",
            "Feature extracting: 100%|██████████| 235/235 [00:14<00:00, 16.59it/s]\n",
            "Test Epoch 8: Acc@1:86.79%: 100%|██████████| 40/40 [00:03<00:00, 11.00it/s]\n",
            "INFO:root:Starting epoch 9\n",
            "loss=4.97457: 100%|██████████| 234/234 [01:56<00:00,  2.00it/s]\n",
            "Feature extracting: 100%|██████████| 235/235 [00:14<00:00, 16.51it/s]\n",
            "Test Epoch 9: Acc@1:88.31%: 100%|██████████| 40/40 [00:03<00:00, 10.99it/s]\n",
            "INFO:root:Starting epoch 10\n",
            "loss=4.93812: 100%|██████████| 234/234 [01:57<00:00,  1.99it/s]\n",
            "Feature extracting: 100%|██████████| 235/235 [00:14<00:00, 16.59it/s]\n",
            "Test Epoch 10: Acc@1:89.90%: 100%|██████████| 40/40 [00:03<00:00, 10.66it/s]\n",
            "INFO:root:Starting epoch 11\n",
            "loss=4.89678: 100%|██████████| 234/234 [01:57<00:00,  2.00it/s]\n",
            "Feature extracting: 100%|██████████| 235/235 [00:14<00:00, 16.54it/s]\n",
            "Test Epoch 11: Acc@1:89.59%: 100%|██████████| 40/40 [00:03<00:00, 11.20it/s]\n",
            "INFO:root:Starting epoch 12\n",
            "loss=4.58385: 100%|██████████| 234/234 [01:57<00:00,  2.00it/s]\n",
            "Feature extracting: 100%|██████████| 235/235 [00:14<00:00, 16.63it/s]\n",
            "Test Epoch 12: Acc@1:90.26%: 100%|██████████| 40/40 [00:03<00:00, 10.95it/s]\n",
            "INFO:root:Starting epoch 13\n",
            "loss=4.60615: 100%|██████████| 234/234 [01:56<00:00,  2.00it/s]\n",
            "Feature extracting: 100%|██████████| 235/235 [00:14<00:00, 16.52it/s]\n",
            "Test Epoch 13: Acc@1:90.89%: 100%|██████████| 40/40 [00:03<00:00, 10.84it/s]\n",
            "INFO:root:Starting epoch 14\n",
            "loss=4.36939: 100%|██████████| 234/234 [01:57<00:00,  1.99it/s]\n",
            "Feature extracting: 100%|██████████| 235/235 [00:14<00:00, 16.49it/s]\n",
            "Test Epoch 14: Acc@1:90.76%: 100%|██████████| 40/40 [00:03<00:00, 10.81it/s]\n",
            "INFO:root:Starting epoch 15\n",
            "loss=4.23802: 100%|██████████| 234/234 [01:57<00:00,  1.99it/s]\n",
            "Feature extracting: 100%|██████████| 235/235 [00:14<00:00, 16.63it/s]\n",
            "Test Epoch 15: Acc@1:91.17%: 100%|██████████| 40/40 [00:03<00:00, 11.03it/s]\n",
            "INFO:root:Starting epoch 16\n",
            "loss=4.24437: 100%|██████████| 234/234 [01:57<00:00,  2.00it/s]\n",
            "Feature extracting: 100%|██████████| 235/235 [00:14<00:00, 16.59it/s]\n",
            "Test Epoch 16: Acc@1:91.61%: 100%|██████████| 40/40 [00:03<00:00, 10.77it/s]\n",
            "INFO:root:Starting epoch 17\n",
            "loss=4.25224: 100%|██████████| 234/234 [01:56<00:00,  2.00it/s]\n",
            "Feature extracting: 100%|██████████| 235/235 [00:14<00:00, 16.49it/s]\n",
            "Test Epoch 17: Acc@1:91.79%: 100%|██████████| 40/40 [00:03<00:00, 11.14it/s]\n",
            "INFO:root:Starting epoch 18\n",
            "loss=4.25281: 100%|██████████| 234/234 [01:57<00:00,  1.99it/s]\n",
            "Feature extracting: 100%|██████████| 235/235 [00:14<00:00, 16.61it/s]\n",
            "Test Epoch 18: Acc@1:91.65%: 100%|██████████| 40/40 [00:03<00:00, 10.91it/s]\n",
            "INFO:root:Starting epoch 19\n",
            "loss=4.05488: 100%|██████████| 234/234 [01:57<00:00,  2.00it/s]\n",
            "Feature extracting: 100%|██████████| 235/235 [00:14<00:00, 16.61it/s]\n",
            "Test Epoch 19: Acc@1:92.35%: 100%|██████████| 40/40 [00:03<00:00, 11.06it/s]\n",
            "INFO:root:Starting epoch 20\n",
            "loss=4.00980: 100%|██████████| 234/234 [01:57<00:00,  1.99it/s]\n",
            "Feature extracting: 100%|██████████| 235/235 [00:14<00:00, 16.50it/s]\n",
            "Test Epoch 20: Acc@1:92.63%: 100%|██████████| 40/40 [00:03<00:00, 10.82it/s]\n",
            "INFO:root:Starting epoch 21\n",
            "loss=3.86411: 100%|██████████| 234/234 [01:57<00:00,  1.99it/s]\n",
            "Feature extracting: 100%|██████████| 235/235 [00:14<00:00, 16.64it/s]\n",
            "Test Epoch 21: Acc@1:92.79%: 100%|██████████| 40/40 [00:03<00:00, 11.20it/s]\n",
            "INFO:root:Starting epoch 22\n",
            "loss=3.95660: 100%|██████████| 234/234 [01:58<00:00,  1.98it/s]\n",
            "Feature extracting: 100%|██████████| 235/235 [00:14<00:00, 16.64it/s]\n",
            "Test Epoch 22: Acc@1:92.93%: 100%|██████████| 40/40 [00:03<00:00, 10.77it/s]\n",
            "INFO:root:Starting epoch 23\n",
            "loss=3.95165: 100%|██████████| 234/234 [01:57<00:00,  1.99it/s]\n",
            "Feature extracting: 100%|██████████| 235/235 [00:14<00:00, 16.57it/s]\n",
            "Test Epoch 23: Acc@1:93.31%: 100%|██████████| 40/40 [00:03<00:00, 11.06it/s]\n",
            "INFO:root:Starting epoch 24\n",
            "loss=3.66479: 100%|██████████| 234/234 [01:57<00:00,  1.98it/s]\n",
            "Feature extracting: 100%|██████████| 235/235 [00:14<00:00, 16.47it/s]\n",
            "Test Epoch 24: Acc@1:93.16%: 100%|██████████| 40/40 [00:03<00:00, 11.05it/s]\n",
            "INFO:root:Starting epoch 25\n",
            "loss=3.83690: 100%|██████████| 234/234 [01:57<00:00,  1.99it/s]\n",
            "Feature extracting: 100%|██████████| 235/235 [00:14<00:00, 16.50it/s]\n",
            "Test Epoch 25: Acc@1:93.53%: 100%|██████████| 40/40 [00:03<00:00, 10.91it/s]\n",
            "INFO:root:Starting epoch 26\n",
            "loss=3.64399: 100%|██████████| 234/234 [01:57<00:00,  1.99it/s]\n",
            "Feature extracting: 100%|██████████| 235/235 [00:14<00:00, 16.65it/s]\n",
            "Test Epoch 26: Acc@1:93.57%: 100%|██████████| 40/40 [00:03<00:00, 10.90it/s]\n",
            "INFO:root:Starting epoch 27\n",
            "loss=3.81868: 100%|██████████| 234/234 [01:57<00:00,  1.99it/s]\n",
            "Feature extracting: 100%|██████████| 235/235 [00:14<00:00, 16.64it/s]\n",
            "Test Epoch 27: Acc@1:93.57%: 100%|██████████| 40/40 [00:03<00:00, 10.62it/s]\n",
            "INFO:root:Starting epoch 28\n",
            "loss=3.69125: 100%|██████████| 234/234 [01:58<00:00,  1.98it/s]\n",
            "Feature extracting: 100%|██████████| 235/235 [00:14<00:00, 16.51it/s]\n",
            "Test Epoch 28: Acc@1:93.79%: 100%|██████████| 40/40 [00:03<00:00, 10.82it/s]\n",
            "INFO:root:Starting epoch 29\n",
            "loss=3.60381: 100%|██████████| 234/234 [01:57<00:00,  1.99it/s]\n",
            "Feature extracting: 100%|██████████| 235/235 [00:14<00:00, 16.58it/s]\n",
            "Test Epoch 29: Acc@1:93.62%: 100%|██████████| 40/40 [00:03<00:00, 10.61it/s]\n",
            "INFO:root:Starting epoch 30\n",
            "loss=3.90034: 100%|██████████| 234/234 [01:58<00:00,  1.98it/s]\n",
            "Feature extracting: 100%|██████████| 235/235 [00:14<00:00, 16.58it/s]\n",
            "Test Epoch 30: Acc@1:93.76%: 100%|██████████| 40/40 [00:03<00:00, 10.94it/s]\n"
          ]
        }
      ]
    },
    {
      "cell_type": "code",
      "source": [
        "plt.plot(acc_history)\n",
        "plt.title(\"MoCo Accuracy for MNIST\")"
      ],
      "metadata": {
        "colab": {
          "base_uri": "https://localhost:8080/",
          "height": 298
        },
        "id": "_UfwIRb-Yhaj",
        "outputId": "8aa383d8-1678-4df4-ec24-0c962a6bba32"
      },
      "execution_count": null,
      "outputs": [
        {
          "output_type": "execute_result",
          "data": {
            "text/plain": [
              "Text(0.5, 1.0, 'MoCo Accuracy for MNIST')"
            ]
          },
          "metadata": {},
          "execution_count": 103
        },
        {
          "output_type": "display_data",
          "data": {
            "image/png": "[encoded data removed]",
            "text/plain": [
              "<Figure size 432x288 with 1 Axes>"
            ]
          },
          "metadata": {
            "needs_background": "light"
          }
        }
      ]
    }
  ]
}
